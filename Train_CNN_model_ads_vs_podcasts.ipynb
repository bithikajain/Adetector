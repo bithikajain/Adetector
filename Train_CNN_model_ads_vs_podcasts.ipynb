{
 "cells": [
  {
   "cell_type": "markdown",
   "metadata": {},
   "source": [
    "# Training CNN models:"
   ]
  },
  {
   "cell_type": "code",
   "execution_count": 1,
   "metadata": {},
   "outputs": [
    {
     "name": "stderr",
     "output_type": "stream",
     "text": [
      "Using TensorFlow backend.\n"
     ]
    }
   ],
   "source": [
    "import os\n",
    "import numpy as np\n",
    "import matplotlib.pyplot as plt\n",
    "import librosa\n",
    "import librosa.display\n",
    "import IPython.display as ipd\n",
    "from sklearn.cluster import MiniBatchKMeans\n",
    "import joblib\n",
    "import keras\n",
    "from keras.models import Sequential\n",
    "from keras.layers import Dense, Conv2D, Flatten\n",
    "from keras.callbacks import ModelCheckpoint\n",
    "from DataGenerator import DataGenerator_Sup\n",
    "from utility_functions import create_CNN_model, plot_confusion_matrix"
   ]
  },
  {
   "cell_type": "markdown",
   "metadata": {},
   "source": [
    "Get a list of all files:"
   ]
  },
  {
   "cell_type": "code",
   "execution_count": 2,
   "metadata": {},
   "outputs": [],
   "source": [
    "Ad_folder = '../Data/audio_ads' # positive samples location\n",
    "Music_folder = '../Data/Music'  # negative samples (music) location\n",
    "Podcast_folder = '../Data/podcasts'  # negative samples (podcasts) location\n",
    "\n",
    "pos_files = []\n",
    "for r,d,f in os.walk(Ad_folder):\n",
    "    for filename in f:\n",
    "        if '.mp3' in filename:\n",
    "            pos_files.append(os.path.join(Ad_folder,filename))\n",
    "\n",
    "music_files = []\n",
    "for r,d,f in os.walk(Music_folder):\n",
    "    for filename in f:\n",
    "        if '.mp3' or '.au' in filename:\n",
    "            music_files.append(os.path.join(r,filename))\n",
    "\n",
    "podcast_files = []\n",
    "for r,d,f in os.walk(Podcast_folder):\n",
    "    for filename in f:\n",
    "        if '.wav' in filename:\n",
    "            podcast_files.append(os.path.join(r,filename))\n"
   ]
  },
  {
   "cell_type": "markdown",
   "metadata": {},
   "source": [
    "How many mp3 files do we have?"
   ]
  },
  {
   "cell_type": "code",
   "execution_count": 3,
   "metadata": {
    "scrolled": true
   },
   "outputs": [
    {
     "name": "stdout",
     "output_type": "stream",
     "text": [
      "We have 2293 positive examples\n",
      "We have 1013 music examples\n",
      "We have 204739 podcast examples\n",
      "--------------------------------\n",
      "In total, 1146.5 minutes of positive and 41454.3 minutes of negative\n"
     ]
    }
   ],
   "source": [
    "neg_files = music_files + podcast_files\n",
    "n_pos_files = len(pos_files)\n",
    "n_neg_files = len(neg_files)\n",
    "\n",
    "print('We have ' + str(n_pos_files) + ' positive examples')\n",
    "print('We have ' + str(len(music_files)) + ' music examples')\n",
    "print('We have ' + str(len(podcast_files)) + ' podcast examples')\n",
    "\n",
    "music_duration = 30/60.0 # duration of files in minutes\n",
    "podcast_duration = 12/60.0 # duration of files in minutes\n",
    "ads_duration = 30/60.0 # average duration of ad files in minutes\n",
    "\n",
    "pos_minutes = round(ads_duration*n_pos_files,2)\n",
    "neg_minutes = round(music_duration*len(music_files) + podcast_duration*len(podcast_files),2)\n",
    "pos_fraction = str(round(neg_minutes/pos_minutes,2)) # the fraction of positives to take for balancing\n",
    "print('--------------------------------')\n",
    "print('In total, ' + str(pos_minutes) + ' minutes of positive and ' + str(neg_minutes) + ' minutes of negative')"
   ]
  },
  {
   "cell_type": "markdown",
   "metadata": {},
   "source": [
    "### Create data generators:"
   ]
  },
  {
   "cell_type": "markdown",
   "metadata": {},
   "source": [
    "#### Decide which part of the data to use and how data will be distributed:"
   ]
  },
  {
   "cell_type": "code",
   "execution_count": 4,
   "metadata": {},
   "outputs": [
    {
     "name": "stdout",
     "output_type": "stream",
     "text": [
      "Using 450.0 minutes of positives for training and 50.0 for testing\n",
      "Using 0.0 minutes of music and 450.0 minutes of podcasts for training\n",
      "Using 0.0 minutes of music and 50.0 minutes of podcasts for testing\n",
      "---------------------------------------------------------------\n",
      "This translates into:\n",
      "0 files of music and 2250 files of podcasts for training\n",
      "0 files of music and 250 files of podcasts for testing\n",
      "900 poitive files for training\n",
      "100 poitive files for testing\n"
     ]
    }
   ],
   "source": [
    "minutes2use = 1000 # total minutes to use for training and testing\n",
    "train_fraction = 0.9 # fraction of the data to train on\n",
    "\n",
    "pos_minutes2use = int(minutes2use/2.0)\n",
    "neg_minutes2use = int(minutes2use/2.0)\n",
    "\n",
    "music_minutes2use = (neg_minutes2use/2)*0\n",
    "podcast_minutes2use = (neg_minutes2use/2)*2\n",
    "assert music_minutes2use + podcast_minutes2use == neg_minutes2use, 'music + podcast != neg'\n",
    "\n",
    "# calculate train and test minutes splitting\n",
    "# train\n",
    "pos_train_minutes = round(train_fraction*pos_minutes2use, 2) # number of pos audio training minutes\n",
    "music_train_minutes = round(train_fraction*music_minutes2use, 2) # number of minutes for music training\n",
    "podcast_train_minutes = round(train_fraction*podcast_minutes2use, 2) # number of minutes for podcast training\n",
    "# test\n",
    "pos_test_minutes = pos_minutes2use - pos_train_minutes\n",
    "music_test_minutes = music_minutes2use - music_train_minutes\n",
    "if podcast_minutes2use:\n",
    "    podcast_test_minutes = podcast_minutes2use - podcast_train_minutes\n",
    "else:\n",
    "    podcast_test_minutes = 0\n",
    "\n",
    "print('Using ' + str(pos_train_minutes) + ' minutes of positives for training and '\n",
    "      + str(pos_test_minutes) + ' for testing')\n",
    "print('Using ' + str(music_train_minutes) + ' minutes of music and ' \n",
    "      + str(podcast_train_minutes) +' minutes of podcasts for training')\n",
    "print('Using ' + str(music_test_minutes) + ' minutes of music and ' \n",
    "      + str(podcast_test_minutes) +' minutes of podcasts for testing')\n",
    "\n",
    "# calculate number of files\n",
    "# train\n",
    "n_music_train_files = int(music_train_minutes/music_duration)\n",
    "n_podcast_train_files = int(podcast_train_minutes/podcast_duration)\n",
    "n_pos_train_files = int(pos_train_minutes/ads_duration)\n",
    "# test\n",
    "n_music_test_files = int(music_test_minutes/music_duration)\n",
    "n_podcast_test_files = int(podcast_test_minutes/podcast_duration)\n",
    "n_pos_test_files = int(pos_test_minutes/ads_duration)\n",
    "print('---------------------------------------------------------------')\n",
    "print('This translates into:')\n",
    "print( str(n_music_train_files) + ' files of music' + ' and ' \n",
    "      + str(n_podcast_train_files) + ' files of podcasts for training')\n",
    "print( str(n_music_test_files) + ' files of music' + ' and ' \n",
    "      + str(n_podcast_test_files) + ' files of podcasts for testing')\n",
    "print(str(n_pos_train_files) + ' poitive files for training')\n",
    "print(str(n_pos_test_files) + ' poitive files for testing')\n",
    "\n",
    "assert len(music_files) >= n_music_train_files + \\\n",
    "n_music_test_files, 'There are not enough music files for that!'\n",
    "assert len(podcast_files) >= n_podcast_train_files + \\\n",
    "n_podcast_test_files, 'There are not enough podcast files for that!'"
   ]
  },
  {
   "cell_type": "markdown",
   "metadata": {},
   "source": [
    "#### Create a generator based on the above:"
   ]
  },
  {
   "cell_type": "code",
   "execution_count": 5,
   "metadata": {},
   "outputs": [],
   "source": [
    "train_files = [] # a list of training files \n",
    "test_files = [] # a list of test files \n",
    "\n",
    "# shuffle files\n",
    "np.random.seed(1)\n",
    "np.random.shuffle(pos_files)\n",
    "np.random.seed(2)\n",
    "np.random.shuffle(music_files)\n",
    "np.random.seed(3)\n",
    "np.random.shuffle(podcast_files)\n",
    "\n",
    "'''Collect a balanced list of files + add labels'''\n",
    "# Training list\n",
    "for f in pos_files[:n_pos_train_files]:\n",
    "    train_files.append([f,1])\n",
    "for f in music_files[:n_music_train_files]:\n",
    "    train_files.append([f,0])\n",
    "for f in podcast_files[:n_podcast_train_files]:\n",
    "    train_files.append([f,0])\n",
    "\n",
    "# Test list\n",
    "for f in pos_files[n_pos_train_files:n_pos_train_files + n_pos_test_files]:\n",
    "    test_files.append([f,1])\n",
    "for f in music_files[n_music_train_files:n_music_train_files + n_music_test_files]:\n",
    "    test_files.append([f,0])\n",
    "for f in podcast_files[n_podcast_train_files:n_podcast_train_files + n_podcast_test_files]:\n",
    "    test_files.append([f,0])\n",
    "\n",
    "train_generator = DataGenerator_Sup(train_files, dataset='train', CNN=True)\n",
    "test_generator = DataGenerator_Sup(test_files, batch_size=40, dataset='test', CNN=True)"
   ]
  },
  {
   "cell_type": "markdown",
   "metadata": {},
   "source": [
    "Check generators:"
   ]
  },
  {
   "cell_type": "code",
   "execution_count": 6,
   "metadata": {},
   "outputs": [
    {
     "data": {
      "text/plain": [
       "315"
      ]
     },
     "execution_count": 6,
     "metadata": {},
     "output_type": "execute_result"
    }
   ],
   "source": [
    "len(train_generator)"
   ]
  },
  {
   "cell_type": "code",
   "execution_count": 7,
   "metadata": {},
   "outputs": [
    {
     "data": {
      "text/plain": [
       "8"
      ]
     },
     "execution_count": 7,
     "metadata": {},
     "output_type": "execute_result"
    }
   ],
   "source": [
    "len(test_generator)"
   ]
  },
  {
   "cell_type": "code",
   "execution_count": 8,
   "metadata": {
    "scrolled": true
   },
   "outputs": [
    {
     "name": "stdout",
     "output_type": "stream",
     "text": [
      "(51, 13, 130, 1)\n",
      "(51, 1)\n",
      "Positive example fraction in batch is 0.6470588235294118\n"
     ]
    }
   ],
   "source": [
    "if 1:\n",
    "    X, Y = train_generator.__getitem__(2) # get item\n",
    "    print(X.shape)\n",
    "    print(Y.shape)\n",
    "    print('Positive example fraction in batch is ' + str((sum(Y == 1)/Y.shape[0])[0]))"
   ]
  },
  {
   "cell_type": "markdown",
   "metadata": {},
   "source": [
    "### Train CNN model:"
   ]
  },
  {
   "cell_type": "markdown",
   "metadata": {},
   "source": [
    "Create and compile model:"
   ]
  },
  {
   "cell_type": "code",
   "execution_count": 9,
   "metadata": {
    "scrolled": false
   },
   "outputs": [
    {
     "name": "stdout",
     "output_type": "stream",
     "text": [
      "WARNING:tensorflow:From /home/ubuntu/anaconda3/envs/tensorflow_p36/lib/python3.6/site-packages/tensorflow/python/framework/op_def_library.py:263: colocate_with (from tensorflow.python.framework.ops) is deprecated and will be removed in a future version.\n",
      "Instructions for updating:\n",
      "Colocations handled automatically by placer.\n",
      "_________________________________________________________________\n",
      "Layer (type)                 Output Shape              Param #   \n",
      "=================================================================\n",
      "conv2d_1 (Conv2D)            (None, 13, 130, 16)       160       \n",
      "_________________________________________________________________\n",
      "conv2d_2 (Conv2D)            (None, 13, 130, 16)       2320      \n",
      "_________________________________________________________________\n",
      "flatten_1 (Flatten)          (None, 27040)             0         \n",
      "_________________________________________________________________\n",
      "dense_1 (Dense)              (None, 32)                865312    \n",
      "_________________________________________________________________\n",
      "dense_2 (Dense)              (None, 1)                 33        \n",
      "=================================================================\n",
      "Total params: 867,825\n",
      "Trainable params: 867,825\n",
      "Non-trainable params: 0\n",
      "_________________________________________________________________\n"
     ]
    }
   ],
   "source": [
    "model = create_CNN_model()\n",
    "filepath = 'models/weights_LeNet5ish_1000_only_podcasts_and_ads_3epochs.hdf5'\n",
    "checkpoint = ModelCheckpoint(filepath)\n",
    "model.compile(loss='binary_crossentropy', optimizer='adam', metrics=['accuracy'])"
   ]
  },
  {
   "cell_type": "markdown",
   "metadata": {},
   "source": [
    "Train model:"
   ]
  },
  {
   "cell_type": "code",
   "execution_count": 34,
   "metadata": {
    "scrolled": false
   },
   "outputs": [
    {
     "name": "stdout",
     "output_type": "stream",
     "text": [
      "Epoch 1/3\n",
      "315/315 [==============================] - 3573s 11s/step - loss: 0.3161 - acc: 0.8600\n",
      "Epoch 2/3\n",
      "315/315 [==============================] - 4280s 14s/step - loss: 0.3119 - acc: 0.8609\n",
      "Epoch 3/3\n",
      "315/315 [==============================] - 3626s 12s/step - loss: 0.2723 - acc: 0.8803\n"
     ]
    }
   ],
   "source": [
    "H = model.fit_generator(generator = train_generator, epochs = 3, callbacks = [checkpoint])"
   ]
  },
  {
   "cell_type": "code",
   "execution_count": 35,
   "metadata": {},
   "outputs": [],
   "source": [
    "history_list.append(H)"
   ]
  },
  {
   "cell_type": "code",
   "execution_count": 11,
   "metadata": {},
   "outputs": [
    {
     "data": {
      "image/png": "[encoded data removed]",
      "text/plain": [
       "<Figure size 720x288 with 2 Axes>"
      ]
     },
     "metadata": {},
     "output_type": "display_data"
    }
   ],
   "source": [
    "plt.rcParams.update({'font.size': 16})\n",
    "plt.figure(figsize= (10,4))\n",
    "plt.subplot(1,2,1)\n",
    "plt.plot(H.history['loss'], linewidth=3, color = 'b')\n",
    "plt.title('Loss')\n",
    "plt.xlabel('epoch')\n",
    "\n",
    "plt.subplot(1,2,2)\n",
    "plt.plot(H.history['acc'], linewidth=3, color = 'g')\n",
    "plt.title('Accuracy')\n",
    "plt.xlabel('epoch')\n",
    "plt.tight_layout()"
   ]
  },
  {
   "cell_type": "code",
   "execution_count": 17,
   "metadata": {},
   "outputs": [],
   "source": [
    "# history_list = []\n",
    "# history_list.append(H)"
   ]
  },
  {
   "cell_type": "code",
   "execution_count": null,
   "metadata": {},
   "outputs": [],
   "source": [
    "# Error files:\n",
    "train_generator.err_files"
   ]
  },
  {
   "cell_type": "markdown",
   "metadata": {},
   "source": [
    "### Check Accuracy:"
   ]
  },
  {
   "cell_type": "code",
   "execution_count": 8,
   "metadata": {},
   "outputs": [
    {
     "name": "stdout",
     "output_type": "stream",
     "text": [
      "WARNING:tensorflow:From /home/ubuntu/anaconda3/envs/tensorflow_p36/lib/python3.6/site-packages/tensorflow/python/framework/op_def_library.py:263: colocate_with (from tensorflow.python.framework.ops) is deprecated and will be removed in a future version.\n",
      "Instructions for updating:\n",
      "Colocations handled automatically by placer.\n",
      "_________________________________________________________________\n",
      "Layer (type)                 Output Shape              Param #   \n",
      "=================================================================\n",
      "conv2d_1 (Conv2D)            (None, 13, 130, 16)       160       \n",
      "_________________________________________________________________\n",
      "conv2d_2 (Conv2D)            (None, 13, 130, 16)       2320      \n",
      "_________________________________________________________________\n",
      "flatten_1 (Flatten)          (None, 27040)             0         \n",
      "_________________________________________________________________\n",
      "dense_1 (Dense)              (None, 32)                865312    \n",
      "_________________________________________________________________\n",
      "dense_2 (Dense)              (None, 1)                 33        \n",
      "=================================================================\n",
      "Total params: 867,825\n",
      "Trainable params: 867,825\n",
      "Non-trainable params: 0\n",
      "_________________________________________________________________\n"
     ]
    }
   ],
   "source": [
    "filepath = 'models/weights_LeNet5ish_1000_only_podcasts_and_ads_3epochs.hdf5'\n",
    "# recreate a model for evaluation\n",
    "eval_model = create_CNN_model()\n",
    "# load weights\n",
    "eval_model.load_weights(filepath)\n",
    "# compile\n",
    "eval_model.compile(loss='binary_crossentropy', optimizer='adam', metrics=['accuracy'])"
   ]
  },
  {
   "cell_type": "markdown",
   "metadata": {},
   "source": [
    "What metrics do we use for evaluation?"
   ]
  },
  {
   "cell_type": "code",
   "execution_count": 9,
   "metadata": {
    "scrolled": true
   },
   "outputs": [
    {
     "data": {
      "text/plain": [
       "['loss', 'acc']"
      ]
     },
     "execution_count": 9,
     "metadata": {},
     "output_type": "execute_result"
    }
   ],
   "source": [
    "eval_model.metrics_names"
   ]
  },
  {
   "cell_type": "markdown",
   "metadata": {},
   "source": [
    "How does the model perform on the test?"
   ]
  },
  {
   "cell_type": "code",
   "execution_count": 12,
   "metadata": {},
   "outputs": [
    {
     "data": {
      "text/plain": [
       "[0.43662268077505045, 0.7955665043715773]"
      ]
     },
     "execution_count": 12,
     "metadata": {},
     "output_type": "execute_result"
    }
   ],
   "source": [
    "eval_model.evaluate_generator(generator = test_generator, steps = 2)"
   ]
  },
  {
   "cell_type": "code",
   "execution_count": 13,
   "metadata": {},
   "outputs": [],
   "source": [
    "X,Y = test_generator.__getitem__(1)\n",
    "Y_pred = eval_model.predict(X)"
   ]
  },
  {
   "cell_type": "code",
   "execution_count": 14,
   "metadata": {
    "scrolled": false
   },
   "outputs": [
    {
     "name": "stdout",
     "output_type": "stream",
     "text": [
      "Confusion matrix, without normalization\n",
      "[[72 15]\n",
      " [15 87]]\n"
     ]
    },
    {
     "data": {
      "text/plain": [
       "<matplotlib.axes._subplots.AxesSubplot at 0x7f7104329438>"
      ]
     },
     "execution_count": 14,
     "metadata": {},
     "output_type": "execute_result"
    },
    {
     "data": {
      "image/png": "[encoded data removed]",
      "text/plain": [
       "<Figure size 432x288 with 2 Axes>"
      ]
     },
     "metadata": {},
     "output_type": "display_data"
    }
   ],
   "source": [
    "plt.rcParams.update({'font.size': 14})\n",
    "plot_confusion_matrix(Y, Y_pred>0.8, ['Non Ad', 'Ad'])"
   ]
  },
  {
   "cell_type": "code",
   "execution_count": 31,
   "metadata": {},
   "outputs": [],
   "source": [
    "loss = []\n",
    "acc = []\n",
    "for l in range(len(history_list)):\n",
    "    loss += history_list[l].history['loss']\n",
    "    acc += history_list[l].history['acc']"
   ]
  },
  {
   "cell_type": "code",
   "execution_count": 33,
   "metadata": {},
   "outputs": [
    {
     "data": {
      "image/png": "[encoded data removed]",
      "text/plain": [
       "<Figure size 720x288 with 2 Axes>"
      ]
     },
     "metadata": {},
     "output_type": "display_data"
    }
   ],
   "source": [
    "plt.rcParams.update({'font.size': 16})\n",
    "plt.figure(figsize= (10,4))\n",
    "plt.subplot(1,2,1)\n",
    "plt.plot(loss, linewidth=3, color = 'b')\n",
    "plt.title('Loss')\n",
    "plt.xlabel('epoch')\n",
    "\n",
    "plt.subplot(1,2,2)\n",
    "plt.plot(acc, linewidth=3, color = 'g')\n",
    "plt.title('Accuracy')\n",
    "plt.xlabel('epoch')\n",
    "plt.tight_layout()"
   ]
  },
  {
   "cell_type": "code",
   "execution_count": null,
   "metadata": {},
   "outputs": [],
   "source": []
  }
 ],
 "metadata": {
  "kernelspec": {
   "display_name": "Environment (conda_tensorflow_p36)",
   "language": "python",
   "name": "conda_tensorflow_p36"
  },
  "language_info": {
   "codemirror_mode": {
    "name": "ipython",
    "version": 3
   },
   "file_extension": ".py",
   "mimetype": "text/x-python",
   "name": "python",
   "nbconvert_exporter": "python",
   "pygments_lexer": "ipython3",
   "version": "3.6.5"
  }
 },
 "nbformat": 4,
 "nbformat_minor": 2
}
