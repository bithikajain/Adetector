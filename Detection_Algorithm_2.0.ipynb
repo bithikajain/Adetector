{
 "cells": [
  {
   "cell_type": "markdown",
   "metadata": {},
   "source": [
    "# Detect Ads in radio stream using the trained models:"
   ]
  },
  {
   "cell_type": "code",
   "execution_count": 1,
   "metadata": {},
   "outputs": [
    {
     "name": "stderr",
     "output_type": "stream",
     "text": [
      "Using TensorFlow backend.\n"
     ]
    }
   ],
   "source": [
    "import os\n",
    "import numpy as np\n",
    "import matplotlib.pyplot as plt\n",
    "%matplotlib notebook\n",
    "import librosa\n",
    "import librosa.display\n",
    "import IPython.display as ipd\n",
    "from sklearn.cluster import MiniBatchKMeans\n",
    "import joblib\n",
    "import keras\n",
    "from keras.models import Sequential\n",
    "from keras.layers import Dense, Conv2D, Flatten\n",
    "from keras.callbacks import ModelCheckpoint\n",
    "from DataGenerator import DataGenerator_Sup\n",
    "from utility_functions import create_model, create_CNN_model, audio2features_vectors, listen_to, moving_average"
   ]
  },
  {
   "cell_type": "markdown",
   "metadata": {},
   "source": [
    "Get a list of all files:"
   ]
  },
  {
   "cell_type": "code",
   "execution_count": 2,
   "metadata": {},
   "outputs": [],
   "source": [
    "Radio_stream_folder = '../Data/radio_streams/' # audio files location\n",
    "\n",
    "example_files = []\n",
    "for r,d,f in os.walk(Radio_stream_folder):\n",
    "    for filename in f:\n",
    "        if '.mp3' in filename:\n",
    "            example_files.append(os.path.join(r,filename))"
   ]
  },
  {
   "cell_type": "markdown",
   "metadata": {},
   "source": [
    "How many mp3 files do we have?"
   ]
  },
  {
   "cell_type": "code",
   "execution_count": 3,
   "metadata": {
    "scrolled": false
   },
   "outputs": [
    {
     "name": "stdout",
     "output_type": "stream",
     "text": [
      "We have 7 radio streaming examples\n"
     ]
    }
   ],
   "source": [
    "n_files = len(example_files)\n",
    "\n",
    "print('We have ' + str(n_files) + ' radio streaming examples')"
   ]
  },
  {
   "cell_type": "markdown",
   "metadata": {},
   "source": [
    "### Define utility functions:"
   ]
  },
  {
   "cell_type": "code",
   "execution_count": 4,
   "metadata": {},
   "outputs": [],
   "source": [
    "def extract_timeframe_data(X, start_time, end_time, d=3):\n",
    "    '''Returns the part of X which is in the defined timeframe'''\n",
    "    t = np.arange(X.shape[0])*d/60.0 # create time axis\n",
    "    S_idx = np.argmin((t-start_time)**2) # start index\n",
    "    E_idx = np.argmin((t-end_time)**2) # end index\n",
    "#     import pdb;pdb.set_trace()\n",
    "    return X[S_idx:E_idx]"
   ]
  },
  {
   "cell_type": "code",
   "execution_count": 5,
   "metadata": {},
   "outputs": [],
   "source": [
    "def get_timestamps(Ad_prob, T=0.85, d=3):\n",
    "    '''Takes an Ad probability vector, a threshold and time bin size\n",
    "       and returns start and end timestamps'''\n",
    "    # smoothing and creating a time axis\n",
    "    Ad_prob_smooth = moving_average(Ad_prob) # smoothing \n",
    "    t = np.arange(len(Ad_prob))*d/60.0 # create time axis\n",
    "    t_smooth = moving_average(t)\n",
    "    \n",
    "    # thresholding for detection and extracting start and end times\n",
    "    detection_domains = (Ad_prob_smooth>T).astype(int) # get 1s for every detection\n",
    "    transitions = np.diff(detection_domains) # get transitions between ads and non ads\n",
    "    \n",
    "    start_times = t_smooth[:-1][transitions == 1] # ad starts when prob. goes 0 -> 1\n",
    "    end_times = t_smooth[:-1][transitions == -1] # ad ends when prob. goes 1 -> 0\n",
    "    \n",
    "    # if the first event is an end - add a start event at time 0\n",
    "    if np.min(end_times) < np.min(start_times):\n",
    "        start_times = np.hstack([0,start_times])\n",
    "    # if the last event is a start - add an end event at the end of the audio\n",
    "    if np.max(end_times) < np.max(start_times):\n",
    "        end_times = np.hstack([end_times, t_smooth[-1]])\n",
    "    \n",
    "    timestamps = np.vstack([start_times, end_times]).transpose()\n",
    "    \n",
    "    # compute probabilities based on music vs ad classifier\n",
    "    music_vs_ads_probs =[]\n",
    "    for i in range(timestamps.shape[0]):\n",
    "        S_idx = np.argmin((t-timestamps[i][0])**2) # start index\n",
    "        E_idx = np.argmin((t-timestamps[i][1])**2) # end index\n",
    "        prob = np.mean(Ad_prob[S_idx:E_idx])\n",
    "        music_vs_ads_probs.append(prob)\n",
    "        \n",
    "    return timestamps, np.vstack(music_vs_ads_probs)"
   ]
  },
  {
   "cell_type": "code",
   "execution_count": 6,
   "metadata": {},
   "outputs": [],
   "source": [
    "def filter_nonads_speech(X, timestamps, T=0.5):\n",
    "    '''Returns timestamps vector after filtering speech audio clips \n",
    "       which do not contain ads'''\n",
    "    results = [] # allocate space for results\n",
    "    \n",
    "    # choose model's weights\n",
    "    weights_path = 'models/weights_LeNet5ish_1000_only_podcasts_and_ads_6epochs.hdf5'\n",
    "    # recreate a model for evaluation\n",
    "    speech_model = create_CNN_model(quiet = True)\n",
    "    # load weights\n",
    "    speech_model.load_weights(weights_path)\n",
    "    # compile\n",
    "    speech_model.compile(loss='binary_crossentropy', optimizer='adam', metrics=['accuracy'])\n",
    "    \n",
    "    for i in range(timestamps.shape[0]):\n",
    "        X_p = extract_timeframe_data(X, *timestamps[i])\n",
    "        Ad_prob = speech_model.predict(X_p)\n",
    "        # keep only time frames with ad probability higher than T\n",
    "        if np.mean(Ad_prob) > T:\n",
    "            results.append(timestamps[i])\n",
    "    \n",
    "    return np.array(results)"
   ]
  },
  {
   "cell_type": "code",
   "execution_count": 7,
   "metadata": {},
   "outputs": [],
   "source": [
    "def Ad_vs_speech_classifier(X, timestamps, probs):\n",
    "    '''Returns ad probability vector after applying ad vs speech classification'''\n",
    "    results = [] # allocate space for results\n",
    "    \n",
    "    # choose model's weights\n",
    "    weights_path = 'models/weights_LeNet5ish_1000_only_podcasts_and_ads_9epochs.hdf5'\n",
    "    # recreate a model for evaluation\n",
    "    speech_model = create_CNN_model(quiet = True)\n",
    "    # load weights\n",
    "    speech_model.load_weights(weights_path)\n",
    "    # compile\n",
    "    speech_model.compile(loss='binary_crossentropy', optimizer='adam', metrics=['accuracy'])\n",
    "    \n",
    "    for i in range(timestamps.shape[0]):\n",
    "        X_p = extract_timeframe_data(X, *timestamps[i])\n",
    "        Ad_prob = speech_model.predict(X_p)\n",
    "        probs[i] = probs[i] * np.mean(Ad_prob)\n",
    "        \n",
    "    return probs"
   ]
  },
  {
   "cell_type": "markdown",
   "metadata": {},
   "source": [
    "### Choose audio file and load it:"
   ]
  },
  {
   "cell_type": "code",
   "execution_count": 8,
   "metadata": {},
   "outputs": [],
   "source": [
    "n = 6 # file number to load\n",
    "d = 3 # duration in sec of a sigle clip\n"
   ]
  },
  {
   "cell_type": "code",
   "execution_count": 9,
   "metadata": {},
   "outputs": [
    {
     "data": {
      "text/plain": [
       "'../Data/radio_streams/Z100 Stream Recording.mp3'"
      ]
     },
     "execution_count": 9,
     "metadata": {},
     "output_type": "execute_result"
    }
   ],
   "source": [
    "example_files[n]"
   ]
  },
  {
   "cell_type": "markdown",
   "metadata": {},
   "source": [
    "### Run model on file and extract start and end time:"
   ]
  },
  {
   "cell_type": "code",
   "execution_count": 10,
   "metadata": {
    "scrolled": true
   },
   "outputs": [
    {
     "name": "stdout",
     "output_type": "stream",
     "text": [
      "(201, 13, 130, 1)\n",
      "file lenght is 10.05 minutes\n"
     ]
    }
   ],
   "source": [
    "X_cnn = audio2features_vectors(example_files[n], CNN= True)\n",
    "print(X_cnn.shape)\n",
    "print('file lenght is ' + str(X_cnn.shape[0]*d/60.0) + ' minutes')"
   ]
  },
  {
   "cell_type": "code",
   "execution_count": 12,
   "metadata": {},
   "outputs": [
    {
     "name": "stdout",
     "output_type": "stream",
     "text": [
      "WARNING:tensorflow:From /home/ohadmich/Documents/genv/lib/python3.6/site-packages/tensorflow/python/framework/op_def_library.py:263: colocate_with (from tensorflow.python.framework.ops) is deprecated and will be removed in a future version.\n",
      "Instructions for updating:\n",
      "Colocations handled automatically by placer.\n",
      "_________________________________________________________________\n",
      "Layer (type)                 Output Shape              Param #   \n",
      "=================================================================\n",
      "conv2d_1 (Conv2D)            (None, 13, 130, 16)       160       \n",
      "_________________________________________________________________\n",
      "conv2d_2 (Conv2D)            (None, 13, 130, 16)       2320      \n",
      "_________________________________________________________________\n",
      "flatten_1 (Flatten)          (None, 27040)             0         \n",
      "_________________________________________________________________\n",
      "dense_1 (Dense)              (None, 32)                865312    \n",
      "_________________________________________________________________\n",
      "dense_2 (Dense)              (None, 1)                 33        \n",
      "=================================================================\n",
      "Total params: 867,825\n",
      "Trainable params: 867,825\n",
      "Non-trainable params: 0\n",
      "_________________________________________________________________\n"
     ]
    }
   ],
   "source": [
    "# choose model's weights\n",
    "weights_path = 'models/weights_LeNet5ish_1000_only_music_and_ads_10epochs.hdf5'\n",
    "\n",
    "# recreate a model for evaluation\n",
    "eval_model = create_CNN_model()\n",
    "# load weights\n",
    "eval_model.load_weights(weights_path)\n",
    "# compile\n",
    "eval_model.compile(loss='binary_crossentropy', optimizer='adam', metrics=['accuracy'])"
   ]
  },
  {
   "cell_type": "code",
   "execution_count": 13,
   "metadata": {},
   "outputs": [],
   "source": [
    "Ad_prob_cnn = eval_model.predict(X_cnn)\n",
    "Ad_prob_avg_cnn = moving_average(Ad_prob_cnn)\n",
    "t = np.arange(len(Ad_prob_cnn))*d/60.0 # create time axis\n",
    "t_avg = moving_average(t)"
   ]
  },
  {
   "cell_type": "code",
   "execution_count": 14,
   "metadata": {},
   "outputs": [
    {
     "data": {
      "image/png": "[encoded data removed]",
      "text/plain": [
       "<Figure size 576x360 with 3 Axes>"
      ]
     },
     "metadata": {
      "needs_background": "light"
     },
     "output_type": "display_data"
    }
   ],
   "source": [
    "# %matplotlib notebook\n",
    "T = 0.85\n",
    "\n",
    "plt.rcParams.update({'font.size': 15})\n",
    "plt.figure(figsize= (8,5))\n",
    "plt.subplot(3,1,1)\n",
    "plt.plot(t, Ad_prob_cnn, 'g')\n",
    "plt.ylabel('Ad prob.')\n",
    "\n",
    "plt.subplot(3,1,2)\n",
    "plt.plot(t_avg, Ad_prob_avg_cnn, 'r')\n",
    "\n",
    "plt.subplot(3,1,3)\n",
    "plt.plot(t_avg, Ad_prob_avg_cnn>T, 'bo')\n",
    "plt.xlabel('Time (min)')\n",
    "plt.tight_layout()"
   ]
  },
  {
   "cell_type": "code",
   "execution_count": 15,
   "metadata": {},
   "outputs": [
    {
     "name": "stdout",
     "output_type": "stream",
     "text": [
      "[[0.    0.225]\n",
      " [2.275 4.125]\n",
      " [4.875 6.225]\n",
      " [6.625 9.775]]\n",
      "[[0.9993076]\n",
      " [0.978228 ]\n",
      " [0.9875266]\n",
      " [0.959395 ]]\n"
     ]
    }
   ],
   "source": [
    "timestamps, probs = get_timestamps(Ad_prob_cnn)\n",
    "print(timestamps)\n",
    "print(probs)"
   ]
  },
  {
   "cell_type": "code",
   "execution_count": null,
   "metadata": {
    "scrolled": false
   },
   "outputs": [],
   "source": [
    "k = 1\n",
    "listen_to(example_files[n], timestamps[k][0], timestamps[k][1])"
   ]
  },
  {
   "cell_type": "markdown",
   "metadata": {},
   "source": [
    "### Second step: Ads vs. speech"
   ]
  },
  {
   "cell_type": "markdown",
   "metadata": {},
   "source": [
    "Find the probability of each timeframe being an ad:"
   ]
  },
  {
   "cell_type": "code",
   "execution_count": 16,
   "metadata": {},
   "outputs": [
    {
     "data": {
      "text/plain": [
       "array([[0.7052678],\n",
       "       [0.5576114],\n",
       "       [0.7725153],\n",
       "       [0.7048328]], dtype=float32)"
      ]
     },
     "execution_count": 16,
     "metadata": {},
     "output_type": "execute_result"
    }
   ],
   "source": [
    "Ad_vs_speech_classifier(X_cnn, *get_timestamps(Ad_prob_cnn))"
   ]
  },
  {
   "cell_type": "markdown",
   "metadata": {},
   "source": [
    "Filter only high probability time frames:"
   ]
  },
  {
   "cell_type": "code",
   "execution_count": 17,
   "metadata": {
    "scrolled": true
   },
   "outputs": [
    {
     "data": {
      "text/plain": [
       "array([[0.   , 0.225],\n",
       "       [4.875, 6.225],\n",
       "       [6.625, 9.775]])"
      ]
     },
     "execution_count": 17,
     "metadata": {},
     "output_type": "execute_result"
    }
   ],
   "source": [
    "filter_nonads_speech(X_cnn, timestamps)"
   ]
  },
  {
   "cell_type": "markdown",
   "metadata": {},
   "source": [
    "### Debuging and testing:"
   ]
  },
  {
   "cell_type": "code",
   "execution_count": null,
   "metadata": {},
   "outputs": [],
   "source": [
    "X_p = extract_timeframe_data(X_cnn, *timestamps[1])"
   ]
  },
  {
   "cell_type": "code",
   "execution_count": null,
   "metadata": {},
   "outputs": [],
   "source": [
    "X_p.shape"
   ]
  },
  {
   "cell_type": "code",
   "execution_count": null,
   "metadata": {},
   "outputs": [],
   "source": [
    "# choose model's weights\n",
    "weights_path = 'models/weights_LeNet5ish_1000_only_podcasts_and_ads_6epochs.hdf5'\n",
    "\n",
    "# recreate a model for evaluation\n",
    "speech_model = create_CNN_model(quiet=True)\n",
    "# load weights\n",
    "speech_model.load_weights(weights_path)\n",
    "# compile\n",
    "speech_model.compile(loss='binary_crossentropy', optimizer='adam', metrics=['accuracy'])"
   ]
  },
  {
   "cell_type": "code",
   "execution_count": null,
   "metadata": {},
   "outputs": [],
   "source": [
    "if 1:\n",
    "    Ad_prob = speech_model.predict(X_p)\n",
    "    Ad_prob_avg = moving_average(Ad_prob)\n",
    "    tp = np.arange(len(Ad_prob))*d/60.0 # create time axis\n",
    "    tp_avg = moving_average(t)"
   ]
  },
  {
   "cell_type": "code",
   "execution_count": null,
   "metadata": {},
   "outputs": [],
   "source": [
    "if 1:\n",
    "    %matplotlib notebook\n",
    "    T = 0.85\n",
    "\n",
    "    plt.rcParams.update({'font.size': 15})\n",
    "    plt.figure(figsize= (6,3))\n",
    "    plt.plot(tp, Ad_prob, 'g')\n",
    "    plt.ylabel('Ad prob.')"
   ]
  },
  {
   "cell_type": "code",
   "execution_count": null,
   "metadata": {
    "scrolled": true
   },
   "outputs": [],
   "source": [
    "Ad_prob = speech_model.predict(X_p)\n",
    "Ad_prob"
   ]
  },
  {
   "cell_type": "code",
   "execution_count": null,
   "metadata": {},
   "outputs": [],
   "source": [
    "np.mean(Ad_prob)"
   ]
  },
  {
   "cell_type": "code",
   "execution_count": null,
   "metadata": {},
   "outputs": [],
   "source": []
  }
 ],
 "metadata": {
  "kernelspec": {
   "display_name": "Python 3",
   "language": "python",
   "name": "python3"
  },
  "language_info": {
   "codemirror_mode": {
    "name": "ipython",
    "version": 3
   },
   "file_extension": ".py",
   "mimetype": "text/x-python",
   "name": "python",
   "nbconvert_exporter": "python",
   "pygments_lexer": "ipython3",
   "version": "3.6.7"
  }
 },
 "nbformat": 4,
 "nbformat_minor": 2
}
