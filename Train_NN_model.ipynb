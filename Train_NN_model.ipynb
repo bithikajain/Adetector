{
 "cells": [
  {
   "cell_type": "markdown",
   "metadata": {},
   "source": [
    "# Training NN models:"
   ]
  },
  {
   "cell_type": "code",
   "execution_count": 1,
   "metadata": {},
   "outputs": [
    {
     "name": "stderr",
     "output_type": "stream",
     "text": [
      "Using TensorFlow backend.\n"
     ]
    }
   ],
   "source": [
    "import os\n",
    "import numpy as np\n",
    "import matplotlib.pyplot as plt\n",
    "import librosa\n",
    "import librosa.display\n",
    "import IPython.display as ipd\n",
    "from sklearn.cluster import MiniBatchKMeans\n",
    "import joblib\n",
    "import keras\n",
    "from keras.models import Sequential\n",
    "from keras.layers import Dense\n",
    "from keras.callbacks import ModelCheckpoint\n",
    "from DataGenerator import DataGenerator_Sup"
   ]
  },
  {
   "cell_type": "markdown",
   "metadata": {},
   "source": [
    "Get a list of all files:"
   ]
  },
  {
   "cell_type": "code",
   "execution_count": 2,
   "metadata": {},
   "outputs": [],
   "source": [
    "Ad_folder = '../Data/audio_ads' # audion files location\n",
    "\n",
    "pos_files = []\n",
    "for r,d,f in os.walk(Ad_folder):\n",
    "    for filename in f:\n",
    "        if '.mp3' in filename:\n",
    "            pos_files.append(os.path.join(Ad_folder,filename))\n",
    "\n",
    "Music_folder = '../Data/Music' # audion files location\n",
    "\n",
    "neg_files = []\n",
    "for r,d,f in os.walk(Music_folder):\n",
    "    for filename in f:\n",
    "        if '.mp3' in filename:\n",
    "            neg_files.append(os.path.join(Music_folder,filename))"
   ]
  },
  {
   "cell_type": "markdown",
   "metadata": {},
   "source": [
    "How many mp3 files do we have?"
   ]
  },
  {
   "cell_type": "code",
   "execution_count": 3,
   "metadata": {
    "scrolled": true
   },
   "outputs": [
    {
     "name": "stdout",
     "output_type": "stream",
     "text": [
      "We have 2303 positive examples\n",
      "We have 23 negative examples\n"
     ]
    }
   ],
   "source": [
    "n_pos_files = len(pos_files)\n",
    "n_neg_files = len(neg_files)\n",
    "\n",
    "print('We have ' + str(n_pos_files) + ' positive examples')\n",
    "print('We have ' + str(n_neg_files) + ' negative examples')"
   ]
  },
  {
   "cell_type": "markdown",
   "metadata": {},
   "source": [
    "### Define utility functions:"
   ]
  },
  {
   "cell_type": "code",
   "execution_count": 4,
   "metadata": {},
   "outputs": [],
   "source": [
    "def create_model(n_features):\n",
    "    '''Create a model obejct with an input of length n_features'''\n",
    "    model = Sequential() # create a model instance\n",
    "\n",
    "    #add model layers\n",
    "    model.add(Dense(256, activation = 'relu', input_shape=(n_features,)))\n",
    "    model.add(Dense(64, activation = 'relu'))\n",
    "    model.add(Dense(1, activation = 'sigmoid'))\n",
    "    \n",
    "    return model"
   ]
  },
  {
   "cell_type": "markdown",
   "metadata": {},
   "source": [
    "### Create data generators:"
   ]
  },
  {
   "cell_type": "code",
   "execution_count": 5,
   "metadata": {},
   "outputs": [],
   "source": [
    "train_size = 0.8 # the fraction of the data used for training \n",
    "pos_fraction = 0.01 # the fraction of positives used in training\n",
    "\n",
    "n_train_pos = int(np.floor(pos_fraction*n_pos_files*train_size))\n",
    "n_train_neg = int(np.floor(n_neg_files*train_size))\n",
    "train_files_pos = pos_files[:n_train_pos]\n",
    "train_files_neg = neg_files[:n_train_neg]\n",
    "test_files_pos = pos_files[n_train_pos:]\n",
    "test_files_neg = neg_files[n_train_neg:]\n",
    "\n",
    "train_generator = DataGenerator_Sup(train_files_pos, train_files_neg, dataset='train')\n",
    "test_generator = DataGenerator_Sup(test_files_pos, test_files_neg, dataset='test')"
   ]
  },
  {
   "cell_type": "markdown",
   "metadata": {},
   "source": [
    "Check generators:"
   ]
  },
  {
   "cell_type": "code",
   "execution_count": 6,
   "metadata": {
    "scrolled": true
   },
   "outputs": [
    {
     "name": "stdout",
     "output_type": "stream",
     "text": [
      "(87, 1690)\n",
      "(87, 1)\n"
     ]
    }
   ],
   "source": [
    "if 1:\n",
    "    X, Y = train_generator.__getitem__(0) # get item\n",
    "    print(X.shape)\n",
    "    print(Y.shape)"
   ]
  },
  {
   "cell_type": "markdown",
   "metadata": {},
   "source": [
    "### Train NN model:"
   ]
  },
  {
   "cell_type": "markdown",
   "metadata": {},
   "source": [
    "Create and compile model:"
   ]
  },
  {
   "cell_type": "code",
   "execution_count": 9,
   "metadata": {},
   "outputs": [],
   "source": [
    "model = create_model(X.shape[1])\n",
    "filepath = 'weights_1690_256_64_1.hdf5'\n",
    "checkpoint = ModelCheckpoint(filepath)\n",
    "model.compile(loss='binary_crossentropy', optimizer='adam', metrics=['accuracy'])"
   ]
  },
  {
   "cell_type": "markdown",
   "metadata": {},
   "source": [
    "Train model:"
   ]
  },
  {
   "cell_type": "code",
   "execution_count": 10,
   "metadata": {
    "scrolled": false
   },
   "outputs": [
    {
     "name": "stdout",
     "output_type": "stream",
     "text": [
      "Epoch 1/10\n",
      "3/3 [==============================] - 43s 14s/step - loss: 0.7200 - acc: 0.6199\n",
      "Epoch 2/10\n",
      "3/3 [==============================] - 52s 17s/step - loss: 0.2656 - acc: 0.8909\n",
      "Epoch 3/10\n",
      "3/3 [==============================] - 49s 16s/step - loss: 0.1638 - acc: 0.9509\n",
      "Epoch 4/10\n",
      "3/3 [==============================] - 43s 14s/step - loss: 0.2849 - acc: 0.8922\n",
      "Epoch 5/10\n",
      "3/3 [==============================] - 49s 16s/step - loss: 0.0674 - acc: 0.9878\n",
      "Epoch 6/10\n",
      "3/3 [==============================] - 46s 15s/step - loss: 0.0434 - acc: 0.9964\n",
      "Epoch 7/10\n",
      "3/3 [==============================] - 46s 15s/step - loss: 0.1506 - acc: 0.9564\n",
      "Epoch 8/10\n",
      "3/3 [==============================] - 41s 14s/step - loss: 0.0662 - acc: 0.9811\n",
      "Epoch 9/10\n",
      "3/3 [==============================] - 43s 14s/step - loss: 0.0311 - acc: 1.0000\n",
      "Epoch 10/10\n",
      "3/3 [==============================] - 44s 15s/step - loss: 0.0309 - acc: 1.0000\n"
     ]
    }
   ],
   "source": [
    "H = model.fit_generator(generator = train_generator, epochs = 10, callbacks = [checkpoint])"
   ]
  },
  {
   "cell_type": "code",
   "execution_count": 11,
   "metadata": {},
   "outputs": [
    {
     "data": {
      "text/plain": [
       "[<matplotlib.lines.Line2D at 0x7f0b3e1485f8>]"
      ]
     },
     "execution_count": 11,
     "metadata": {},
     "output_type": "execute_result"
    },
    {
     "data": {
      "image/png": "[encoded data removed]",
      "text/plain": [
       "<Figure size 720x288 with 2 Axes>"
      ]
     },
     "metadata": {
      "needs_background": "light"
     },
     "output_type": "display_data"
    }
   ],
   "source": [
    "plt.figure(figsize= (10,4))\n",
    "plt.subplot(1,2,1)\n",
    "plt.plot(H.history['loss'])\n",
    "plt.title('Loss')\n",
    "plt.subplot(1,2,2)\n",
    "plt.title('Accuracy')\n",
    "plt.plot(H.history['acc'])"
   ]
  },
  {
   "cell_type": "code",
   "execution_count": null,
   "metadata": {},
   "outputs": [],
   "source": [
    "# Error files:\n",
    "train_generatorerator.err_files"
   ]
  },
  {
   "cell_type": "markdown",
   "metadata": {},
   "source": [
    "### Check Accuracy:"
   ]
  },
  {
   "cell_type": "markdown",
   "metadata": {},
   "source": [
    "What metrics do we use for evaluation?"
   ]
  },
  {
   "cell_type": "code",
   "execution_count": 14,
   "metadata": {
    "scrolled": true
   },
   "outputs": [
    {
     "data": {
      "text/plain": [
       "['loss', 'acc']"
      ]
     },
     "execution_count": 14,
     "metadata": {},
     "output_type": "execute_result"
    }
   ],
   "source": [
    "model.metrics_names"
   ]
  },
  {
   "cell_type": "markdown",
   "metadata": {},
   "source": [
    "How does the model perform on the test?"
   ]
  },
  {
   "cell_type": "code",
   "execution_count": 15,
   "metadata": {},
   "outputs": [
    {
     "data": {
      "text/plain": [
       "[0.5121922263973637, 0.7631579060303537]"
      ]
     },
     "execution_count": 15,
     "metadata": {},
     "output_type": "execute_result"
    }
   ],
   "source": [
    "model.evaluate_generator(generator = test_generator, steps = 2)"
   ]
  },
  {
   "cell_type": "code",
   "execution_count": null,
   "metadata": {},
   "outputs": [],
   "source": []
  }
 ],
 "metadata": {
  "kernelspec": {
   "display_name": "Python 3",
   "language": "python",
   "name": "python3"
  },
  "language_info": {
   "codemirror_mode": {
    "name": "ipython",
    "version": 3
   },
   "file_extension": ".py",
   "mimetype": "text/x-python",
   "name": "python",
   "nbconvert_exporter": "python",
   "pygments_lexer": "ipython3",
   "version": "3.6.7"
  }
 },
 "nbformat": 4,
 "nbformat_minor": 2
}
