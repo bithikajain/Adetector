{
 "cells": [
  {
   "cell_type": "markdown",
   "metadata": {},
   "source": [
    "# Feature Extraction"
   ]
  },
  {
   "cell_type": "code",
   "execution_count": 1,
   "metadata": {},
   "outputs": [],
   "source": [
    "import os\n",
    "import numpy as np\n",
    "import matplotlib.pyplot as plt\n",
    "import librosa\n",
    "import librosa.display\n",
    "import IPython.display as ipd\n",
    "from sklearn.cluster import MiniBatchKMeans\n",
    "import joblib"
   ]
  },
  {
   "cell_type": "markdown",
   "metadata": {},
   "source": [
    "Get a list of all files:"
   ]
  },
  {
   "cell_type": "code",
   "execution_count": 2,
   "metadata": {},
   "outputs": [],
   "source": [
    "Ad_folder = '../Data/audio_ads' # audion files location\n",
    "\n",
    "files = []\n",
    "for r,d,f in os.walk(Ad_folder):\n",
    "    for filename in f:\n",
    "        if '.mp3' in filename:\n",
    "            files.append(os.path.join(Ad_folder,filename))\n",
    "\n",
    "Music_folder = '../Data/Music' # audion files location\n",
    "\n",
    "Music_files = []\n",
    "for r,d,f in os.walk(Music_folder):\n",
    "    for filename in f:\n",
    "        if '.mp3' in filename:\n",
    "            Music_files.append(os.path.join(Music_folder,filename))"
   ]
  },
  {
   "cell_type": "markdown",
   "metadata": {},
   "source": [
    "How many mp3 files do we have?"
   ]
  },
  {
   "cell_type": "code",
   "execution_count": 3,
   "metadata": {
    "scrolled": true
   },
   "outputs": [
    {
     "data": {
      "text/plain": [
       "2307"
      ]
     },
     "execution_count": 3,
     "metadata": {},
     "output_type": "execute_result"
    }
   ],
   "source": [
    "len(files)"
   ]
  },
  {
   "cell_type": "markdown",
   "metadata": {},
   "source": [
    "### Define utility functions:"
   ]
  },
  {
   "cell_type": "code",
   "execution_count": 4,
   "metadata": {},
   "outputs": [],
   "source": [
    "def load_clips(filepath_list, d = 3, sr = 22050):\n",
    "    '''Loads files in filepath_list, cuts them to clips of length\n",
    "       d and returns a list of all the clips'''\n",
    "    clip_list = []\n",
    "    # load all files in filepath_list\n",
    "    for f in filepath_list:\n",
    "        i = 0 # keep track of clip number\n",
    "        audio = librosa.core.load(f, offset = i*d, duration = d)[0]\n",
    "        # add to data_list only clips in standard size\n",
    "        while(len(audio) == sr*d):\n",
    "            clip_list.append(audio)\n",
    "            i = i+1\n",
    "            audio = librosa.core.load(f, offset = i*d, duration = d)[0]\n",
    "    \n",
    "    return clip_list"
   ]
  },
  {
   "cell_type": "code",
   "execution_count": 5,
   "metadata": {},
   "outputs": [],
   "source": [
    "def clips2features(clip_list, n_mfcc = 13, sr = 22050, train_size = 0.8):\n",
    "    '''Takes a list of equal length clips with rate sr, \n",
    "       and returns feture vector with n_mfcc frequency coefficients'''\n",
    "    feature_vectors = []\n",
    "    X_train = []\n",
    "    X_test = []\n",
    "    n_clips = len(clip_list)\n",
    "    n_train = int(np.floor(n_clips*train_size))\n",
    "    np.random.shuffle(clip_list) # randomize data\n",
    "    # extract feature vectors and append to feature_vectors list \n",
    "    for clip in clip_list:\n",
    "        features = librosa.feature.mfcc(clip, sr=sr, n_mfcc=n_mfcc, dct_type=2)\n",
    "        feature_vectors.append(features.flatten())\n",
    "    # divide train and test\n",
    "    X_train = feature_vectors[:n_train]\n",
    "    X_test = feature_vectors[n_train:]\n",
    "    \n",
    "    return X_train, X_test"
   ]
  },
  {
   "cell_type": "code",
   "execution_count": 6,
   "metadata": {},
   "outputs": [],
   "source": [
    "def train_kmeans(X_train, n_clusters = 10):\n",
    "    '''Takes a list of feature vectors and trains \n",
    "       a k-means model'''\n",
    "    X = np.vstack(X_train) # stack vertically (#samples, #features)\n",
    "    # normalize\n",
    "    mu = np.mean(X, axis=0) \n",
    "    std = np.std(X, axis=0)\n",
    "    X = (X-mu)/std\n",
    "    # create and train model\n",
    "    model = MiniBatchKMeans(n_clusters=n_clusters, batch_size=1000)\n",
    "    model.partial_fit(X)\n",
    "    \n",
    "    return model,mu,std"
   ]
  },
  {
   "cell_type": "code",
   "execution_count": 7,
   "metadata": {},
   "outputs": [],
   "source": [
    "def predict_kmeans(X, model, mu, std, T = 44):\n",
    "    '''Takes a list of feature vectors X, a model and mean and std values\n",
    "       and returns a class 1 for ads, 0 for non ads based on threshold T'''\n",
    "    X = (np.vstack(X)-mu)/std # stack and normailze data\n",
    "    cluster_distance = np.min(model.transform(X), axis=1) # compute the distance to nearest cluster\n",
    "#     import pdb; pdb.set_trace()\n",
    "    return cluster_distance<T"
   ]
  },
  {
   "cell_type": "markdown",
   "metadata": {},
   "source": [
    "### Load and train k-means model:"
   ]
  },
  {
   "cell_type": "code",
   "execution_count": 8,
   "metadata": {},
   "outputs": [],
   "source": [
    "for i in range(2):\n",
    "    X_train, X_test = clips2features(load_clips(files[25*i:25*i+25]))\n",
    "    model, mu, std = train_kmeans(X_train)"
   ]
  },
  {
   "cell_type": "markdown",
   "metadata": {},
   "source": [
    "Save trained model:"
   ]
  },
  {
   "cell_type": "code",
   "execution_count": 9,
   "metadata": {},
   "outputs": [
    {
     "data": {
      "text/plain": [
       "['Kmeans_model.joblib']"
      ]
     },
     "execution_count": 9,
     "metadata": {},
     "output_type": "execute_result"
    }
   ],
   "source": [
    "joblib.dump(model, 'Kmeans_model.joblib')"
   ]
  },
  {
   "cell_type": "markdown",
   "metadata": {},
   "source": [
    "### Check Accuracy:"
   ]
  },
  {
   "cell_type": "markdown",
   "metadata": {},
   "source": [
    "First on the positive group:"
   ]
  },
  {
   "cell_type": "code",
   "execution_count": 10,
   "metadata": {},
   "outputs": [
    {
     "data": {
      "text/plain": [
       "1.0"
      ]
     },
     "execution_count": 10,
     "metadata": {},
     "output_type": "execute_result"
    }
   ],
   "source": [
    "np.mean(predict_kmeans(X_test, model, mu, std))"
   ]
  },
  {
   "cell_type": "markdown",
   "metadata": {},
   "source": [
    "Next, on the negative group:"
   ]
  },
  {
   "cell_type": "code",
   "execution_count": 11,
   "metadata": {},
   "outputs": [
    {
     "data": {
      "text/plain": [
       "25"
      ]
     },
     "execution_count": 11,
     "metadata": {},
     "output_type": "execute_result"
    }
   ],
   "source": [
    "X_Music = clips2features(load_clips(Music_files[:3]), train_size=1)[0]\n",
    "len(X_Music)"
   ]
  },
  {
   "cell_type": "code",
   "execution_count": 12,
   "metadata": {},
   "outputs": [
    {
     "data": {
      "text/plain": [
       "0.84"
      ]
     },
     "execution_count": 12,
     "metadata": {},
     "output_type": "execute_result"
    }
   ],
   "source": [
    "np.mean(predict_kmeans(X_Music, model, mu, std))"
   ]
  },
  {
   "cell_type": "markdown",
   "metadata": {},
   "source": [
    "### Listen to data:"
   ]
  },
  {
   "cell_type": "code",
   "execution_count": null,
   "metadata": {},
   "outputs": [],
   "source": [
    "data = load_clips(files[0:2])"
   ]
  },
  {
   "cell_type": "code",
   "execution_count": null,
   "metadata": {},
   "outputs": [],
   "source": [
    "len(data)"
   ]
  },
  {
   "cell_type": "code",
   "execution_count": null,
   "metadata": {},
   "outputs": [],
   "source": [
    "ipd.Audio(data[20], rate = 22050)"
   ]
  },
  {
   "cell_type": "code",
   "execution_count": null,
   "metadata": {},
   "outputs": [],
   "source": []
  }
 ],
 "metadata": {
  "kernelspec": {
   "display_name": "Environment (conda_tensorflow_p36)",
   "language": "python",
   "name": "conda_tensorflow_p36"
  },
  "language_info": {
   "codemirror_mode": {
    "name": "ipython",
    "version": 3
   },
   "file_extension": ".py",
   "mimetype": "text/x-python",
   "name": "python",
   "nbconvert_exporter": "python",
   "pygments_lexer": "ipython3",
   "version": "3.6.5"
  }
 },
 "nbformat": 4,
 "nbformat_minor": 2
}
