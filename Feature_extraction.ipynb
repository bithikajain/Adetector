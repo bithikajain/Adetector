{
 "cells": [
  {
   "cell_type": "markdown",
   "metadata": {},
   "source": [
    "# Feature Extraction"
   ]
  },
  {
   "cell_type": "code",
   "execution_count": 1,
   "metadata": {},
   "outputs": [
    {
     "name": "stderr",
     "output_type": "stream",
     "text": [
      "Using TensorFlow backend.\n"
     ]
    }
   ],
   "source": [
    "import os\n",
    "import numpy as np\n",
    "import matplotlib.pyplot as plt\n",
    "import librosa\n",
    "import librosa.display\n",
    "import IPython.display as ipd\n",
    "from sklearn.cluster import MiniBatchKMeans\n",
    "import joblib\n",
    "import keras"
   ]
  },
  {
   "cell_type": "markdown",
   "metadata": {},
   "source": [
    "Get a list of all files:"
   ]
  },
  {
   "cell_type": "code",
   "execution_count": 2,
   "metadata": {},
   "outputs": [],
   "source": [
    "Ad_folder = '../Data/audio_ads' # audion files location\n",
    "\n",
    "files = []\n",
    "for r,d,f in os.walk(Ad_folder):\n",
    "    for filename in f:\n",
    "        if '.mp3' in filename:\n",
    "            files.append(os.path.join(Ad_folder,filename))\n",
    "\n",
    "Music_folder = '../Data/Music' # audion files location\n",
    "\n",
    "Music_files = []\n",
    "for r,d,f in os.walk(Music_folder):\n",
    "    for filename in f:\n",
    "        if '.mp3' in filename:\n",
    "            Music_files.append(os.path.join(Music_folder,filename))"
   ]
  },
  {
   "cell_type": "markdown",
   "metadata": {},
   "source": [
    "How many mp3 files do we have?"
   ]
  },
  {
   "cell_type": "code",
   "execution_count": 3,
   "metadata": {
    "scrolled": true
   },
   "outputs": [
    {
     "data": {
      "text/plain": [
       "2307"
      ]
     },
     "execution_count": 3,
     "metadata": {},
     "output_type": "execute_result"
    }
   ],
   "source": [
    "len(files)"
   ]
  },
  {
   "cell_type": "markdown",
   "metadata": {},
   "source": [
    "### Define utility functions:"
   ]
  },
  {
   "cell_type": "code",
   "execution_count": 4,
   "metadata": {},
   "outputs": [],
   "source": [
    "class DataGenerator(keras.utils.Sequence):\n",
    "    \"\"\"Generate data for Keras\"\"\"\n",
    "    def __init__(self, filepath_list, batch_size=10, sample_duration = 3, dataset='train', shuffle=True):\n",
    "        \"\"\"\n",
    "        * filepath_list: a list of paths for audio files\n",
    "        * batch_size: batch sample of each iteration\n",
    "        * sample_duration: standard sample duration in the data set\n",
    "        * dataset: use to label the dataset of the current generator\n",
    "        * shuffle: whether or not shuffle the dataframe before itering over it. Default True!\n",
    "        \"\"\"\n",
    "        self.batch_size = batch_size\n",
    "        self.dataset = dataset\n",
    "        self.shuffle = shuffle\n",
    "        self.files = filepath_list\n",
    "        self.n_files = len(self.files)\n",
    "        self.sr = 22050 # audio sampling rate\n",
    "        self.n_mfcc = 13 # number of frequency coefficients to use\n",
    "        self.d = sample_duration\n",
    "        self.on_epoch_end()\n",
    "\n",
    "    def __len__(self):\n",
    "        \"\"\"Denotes the number of batches per epoch\"\"\"\n",
    "        num_batches = self.df.shape[0] // self.batch_size + (self.df.shape[0] % self.batch_size > 0)\n",
    "        \n",
    "        return num_batches\n",
    "\n",
    "    def __getitem__(self, index):\n",
    "        \"\"\"Generate one batch of data\"\"\"\n",
    "        start_index = index * self.batch_size\n",
    "        end_index = (index+1) * self.batch_size\n",
    "        if end_index > self.n_files:\n",
    "            end_index = None\n",
    "        batch_files = self.files[start_index:end_index]\n",
    "\n",
    "        X = self.__data_generation(batch_files)\n",
    "\n",
    "        return X\n",
    "\n",
    "    def __data_generation(self, batch_files):\n",
    "        \"\"\"Generate a data batch\"\"\"\n",
    "        X = []\n",
    "        clip_list = self.load_clips(batch_files)\n",
    "        np.random.shuffle(clip_list) # randomize clips (many of them come from the same file)\n",
    "        for clip in clip_list:\n",
    "            features = librosa.feature.mfcc(clip, sr=self.sr, n_mfcc=self.n_mfcc, dct_type=2)\n",
    "            X.append(features.flatten())\n",
    "            \n",
    "        return np.vstack(X)\n",
    "    \n",
    "    def load_clips(self, filepath_list):\n",
    "        '''Loads files in filepath_list, cuts them to clips of length\n",
    "           d and returns a list of all the clips'''\n",
    "        clip_list = []\n",
    "        # load all files in filepath_list\n",
    "        for f in filepath_list:\n",
    "            i = 0 # keep track of clip number\n",
    "            audio = librosa.core.load(f, offset = i*self.d, duration = self.d)[0]\n",
    "            # add to data_list only clips in standard size\n",
    "            while(len(audio) == self.sr*self.d):\n",
    "                clip_list.append(audio)\n",
    "                i = i+1\n",
    "                audio = librosa.core.load(f, offset = i*self.d, duration = self.d)[0]\n",
    "\n",
    "        return clip_list\n",
    "    \n",
    "    def on_epoch_end(self):\n",
    "            \"\"\"Update indexes after each epoch\"\"\"\n",
    "#             if self.shuffle:\n",
    "#                 self.files = np.random.shuffle(self.files)"
   ]
  },
  {
   "cell_type": "code",
   "execution_count": 5,
   "metadata": {},
   "outputs": [],
   "source": [
    "def load_clips(filepath_list, d = 3, sr = 22050):\n",
    "    '''Loads files in filepath_list, cuts them to clips of length\n",
    "       d and returns a list of all the clips'''\n",
    "    clip_list = []\n",
    "    # load all files in filepath_list\n",
    "    for f in filepath_list:\n",
    "        i = 0 # keep track of clip number\n",
    "        audio = librosa.core.load(f, offset = i*d, duration = d)[0]\n",
    "        # add to data_list only clips in standard size\n",
    "        while(len(audio) == sr*d):\n",
    "            clip_list.append(audio)\n",
    "            i = i+1\n",
    "            audio = librosa.core.load(f, offset = i*d, duration = d)[0]\n",
    "    \n",
    "    return clip_list"
   ]
  },
  {
   "cell_type": "code",
   "execution_count": 6,
   "metadata": {},
   "outputs": [],
   "source": [
    "def clips2features(clip_list, n_mfcc = 13, sr = 22050, train_size = 0.8):\n",
    "    '''Takes a list of equal length clips with rate sr, \n",
    "       and returns feture vector with n_mfcc frequency coefficients'''\n",
    "    feature_vectors = []\n",
    "    X_train = []\n",
    "    X_test = []\n",
    "    n_clips = len(clip_list)\n",
    "    n_train = int(np.floor(n_clips*train_size))\n",
    "    np.random.shuffle(clip_list) # randomize data\n",
    "    # extract feature vectors and append to feature_vectors list \n",
    "    for clip in clip_list:\n",
    "        features = librosa.feature.mfcc(clip, sr=sr, n_mfcc=n_mfcc, dct_type=2)\n",
    "        feature_vectors.append(features.flatten())\n",
    "    # divide train and test\n",
    "    X_train = feature_vectors[:n_train]\n",
    "    X_test = feature_vectors[n_train:]\n",
    "    \n",
    "    return X_train, X_test"
   ]
  },
  {
   "cell_type": "code",
   "execution_count": 7,
   "metadata": {},
   "outputs": [],
   "source": [
    "def train_kmeans(X, n_clusters = 10):\n",
    "    '''Takes a tarining batch X_train of shape (n_samples, n_features) \n",
    "       and trains a k-means model'''\n",
    "    # normalize\n",
    "    mu = np.mean(X, axis=0) \n",
    "    std = np.std(X, axis=0)\n",
    "    X = (X-mu)/std\n",
    "    # create and train model\n",
    "    model = MiniBatchKMeans(n_clusters=n_clusters, batch_size=1000)\n",
    "    model.partial_fit(X)\n",
    "    \n",
    "    return model,mu,std"
   ]
  },
  {
   "cell_type": "code",
   "execution_count": 8,
   "metadata": {},
   "outputs": [],
   "source": [
    "def predict_kmeans(X, model, mu, std, T = 44):\n",
    "    '''Takes a list of feature vectors X, a model and mean and std values\n",
    "       and returns a class 1 for ads, 0 for non ads based on threshold T'''\n",
    "    X = (np.vstack(X)-mu)/std # stack and normailze data\n",
    "    cluster_distance = np.min(model.transform(X), axis=1) # compute the distance to nearest cluster\n",
    "#     import pdb; pdb.set_trace()\n",
    "    return cluster_distance<T"
   ]
  },
  {
   "cell_type": "markdown",
   "metadata": {},
   "source": [
    "### Create data generators:"
   ]
  },
  {
   "cell_type": "code",
   "execution_count": 9,
   "metadata": {},
   "outputs": [],
   "source": [
    "train_size = 0.8\n",
    "\n",
    "n_files = len(files)\n",
    "n_train = int(np.floor(n_files*train_size))\n",
    "train_files = files[:n_train]\n",
    "test_files = files[n_train:]\n",
    "\n",
    "train_generator = DataGenerator(filepath_list=train_files, shuffle=True, dataset='train')\n",
    "test_generator = DataGenerator(filepath_list=test_files, shuffle=False, dataset='test')"
   ]
  },
  {
   "cell_type": "markdown",
   "metadata": {},
   "source": [
    "Check generators:"
   ]
  },
  {
   "cell_type": "code",
   "execution_count": null,
   "metadata": {},
   "outputs": [],
   "source": [
    "if 0:\n",
    "    X = train_generator.__getitem__(0) # get item\n",
    "    X.shape"
   ]
  },
  {
   "cell_type": "markdown",
   "metadata": {},
   "source": [
    "How many batches in one epoch?"
   ]
  },
  {
   "cell_type": "code",
   "execution_count": 10,
   "metadata": {},
   "outputs": [
    {
     "data": {
      "text/plain": [
       "184"
      ]
     },
     "execution_count": 10,
     "metadata": {},
     "output_type": "execute_result"
    }
   ],
   "source": [
    "n_batch = int(np.floor(train_generator.n_files/train_generator.batch_size))\n",
    "n_batch"
   ]
  },
  {
   "cell_type": "markdown",
   "metadata": {},
   "source": [
    "### Load and train k-means model:"
   ]
  },
  {
   "cell_type": "code",
   "execution_count": 11,
   "metadata": {},
   "outputs": [],
   "source": [
    "for i in range(n_batch):\n",
    "    X_train = train_generator.__getitem__(0) # get item\n",
    "    model, mu, std = train_kmeans(X_train) # train model\n",
    "    joblib.dump(model, 'Kmeans_model.joblib') # save model after each batch"
   ]
  },
  {
   "cell_type": "markdown",
   "metadata": {},
   "source": [
    "Save trained model:"
   ]
  },
  {
   "cell_type": "code",
   "execution_count": null,
   "metadata": {},
   "outputs": [],
   "source": [
    "# joblib.dump(model, 'Kmeans_model.joblib')"
   ]
  },
  {
   "cell_type": "markdown",
   "metadata": {},
   "source": [
    "### Check Accuracy:"
   ]
  },
  {
   "cell_type": "markdown",
   "metadata": {},
   "source": [
    "First on the positive group:"
   ]
  },
  {
   "cell_type": "code",
   "execution_count": 13,
   "metadata": {},
   "outputs": [
    {
     "data": {
      "text/plain": [
       "110"
      ]
     },
     "execution_count": 13,
     "metadata": {},
     "output_type": "execute_result"
    }
   ],
   "source": [
    "X_test = test_generator.__getitem__(0)\n",
    "len(X_test)"
   ]
  },
  {
   "cell_type": "code",
   "execution_count": 14,
   "metadata": {},
   "outputs": [
    {
     "data": {
      "text/plain": [
       "0.24545454545454545"
      ]
     },
     "execution_count": 14,
     "metadata": {},
     "output_type": "execute_result"
    }
   ],
   "source": [
    "np.mean(predict_kmeans(X_test, model, mu, std))"
   ]
  },
  {
   "cell_type": "markdown",
   "metadata": {},
   "source": [
    "Next, on the negative group:"
   ]
  },
  {
   "cell_type": "code",
   "execution_count": 15,
   "metadata": {},
   "outputs": [
    {
     "data": {
      "text/plain": [
       "145"
      ]
     },
     "execution_count": 15,
     "metadata": {},
     "output_type": "execute_result"
    }
   ],
   "source": [
    "Music_generator = DataGenerator(filepath_list=Music_files, shuffle=False, dataset='Music')\n",
    "X_Music = Music_generator.__getitem__(0)\n",
    "len(X_Music)"
   ]
  },
  {
   "cell_type": "code",
   "execution_count": 16,
   "metadata": {},
   "outputs": [
    {
     "data": {
      "text/plain": [
       "0.9310344827586207"
      ]
     },
     "execution_count": 16,
     "metadata": {},
     "output_type": "execute_result"
    }
   ],
   "source": [
    "np.mean(predict_kmeans(X_Music, model, mu, std))"
   ]
  },
  {
   "cell_type": "code",
   "execution_count": null,
   "metadata": {},
   "outputs": [],
   "source": [
    "X_Music = clips2features(load_clips(Music_files[:3]), train_size=1)[0]\n",
    "len(X_Music)"
   ]
  },
  {
   "cell_type": "markdown",
   "metadata": {},
   "source": [
    "### Listen to data:"
   ]
  },
  {
   "cell_type": "code",
   "execution_count": null,
   "metadata": {},
   "outputs": [],
   "source": [
    "data = load_clips(files[0:2])"
   ]
  },
  {
   "cell_type": "code",
   "execution_count": null,
   "metadata": {},
   "outputs": [],
   "source": [
    "len(data)"
   ]
  },
  {
   "cell_type": "code",
   "execution_count": null,
   "metadata": {},
   "outputs": [],
   "source": [
    "ipd.Audio(data[20], rate = 22050)"
   ]
  },
  {
   "cell_type": "code",
   "execution_count": null,
   "metadata": {},
   "outputs": [],
   "source": []
  }
 ],
 "metadata": {
  "kernelspec": {
   "display_name": "Environment (conda_tensorflow_p36)",
   "language": "python",
   "name": "conda_tensorflow_p36"
  },
  "language_info": {
   "codemirror_mode": {
    "name": "ipython",
    "version": 3
   },
   "file_extension": ".py",
   "mimetype": "text/x-python",
   "name": "python",
   "nbconvert_exporter": "python",
   "pygments_lexer": "ipython3",
   "version": "3.6.5"
  }
 },
 "nbformat": 4,
 "nbformat_minor": 2
}
