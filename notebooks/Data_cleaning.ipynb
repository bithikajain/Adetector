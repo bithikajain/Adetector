{
 "cells": [
  {
   "cell_type": "markdown",
   "metadata": {},
   "source": [
    "# Data Cleaning"
   ]
  },
  {
   "cell_type": "code",
   "execution_count": 1,
   "metadata": {},
   "outputs": [],
   "source": [
    "import os\n",
    "import numpy as np\n",
    "import matplotlib.pyplot as plt\n",
    "import librosa\n",
    "import librosa.display\n",
    "import pandas as pd"
   ]
  },
  {
   "cell_type": "markdown",
   "metadata": {},
   "source": [
    "Get a list of all files:"
   ]
  },
  {
   "cell_type": "code",
   "execution_count": 2,
   "metadata": {},
   "outputs": [],
   "source": [
    "mp3_folder = '../../../Downloads/audio_ads/audio_ads' # audion files location\n",
    "\n",
    "files = []\n",
    "for r,d,f in os.walk(mp3_folder):\n",
    "    for filename in f:\n",
    "        if '.mp3' in filename:\n",
    "            files.append(os.path.join(mp3_folder,filename))"
   ]
  },
  {
   "cell_type": "markdown",
   "metadata": {},
   "source": [
    "How many mp3 files do we have?"
   ]
  },
  {
   "cell_type": "code",
   "execution_count": 3,
   "metadata": {},
   "outputs": [
    {
     "data": {
      "text/plain": [
       "2328"
      ]
     },
     "execution_count": 3,
     "metadata": {},
     "output_type": "execute_result"
    }
   ],
   "source": [
    "len(files)"
   ]
  },
  {
   "cell_type": "markdown",
   "metadata": {},
   "source": [
    "### Some files are not ads, let's identify those:"
   ]
  },
  {
   "cell_type": "markdown",
   "metadata": {},
   "source": [
    "Load transcript metadata - find non ad files:"
   ]
  },
  {
   "cell_type": "code",
   "execution_count": 8,
   "metadata": {},
   "outputs": [
    {
     "data": {
      "text/html": [
       "<div>\n",
       "<style scoped>\n",
       "    .dataframe tbody tr th:only-of-type {\n",
       "        vertical-align: middle;\n",
       "    }\n",
       "\n",
       "    .dataframe tbody tr th {\n",
       "        vertical-align: top;\n",
       "    }\n",
       "\n",
       "    .dataframe thead th {\n",
       "        text-align: right;\n",
       "    }\n",
       "</style>\n",
       "<table border=\"1\" class=\"dataframe\">\n",
       "  <thead>\n",
       "    <tr style=\"text-align: right;\">\n",
       "      <th></th>\n",
       "      <th>track_id</th>\n",
       "      <th>transcription_text</th>\n",
       "    </tr>\n",
       "  </thead>\n",
       "  <tbody>\n",
       "    <tr>\n",
       "      <th>0</th>\n",
       "      <td>5a21457ff2f434e030908d3a3dc516aefd42e82565c0bf...</td>\n",
       "      <td>Guess what with boost. Adding a line with unli...</td>\n",
       "    </tr>\n",
       "    <tr>\n",
       "      <th>1</th>\n",
       "      <td>d141c764e7c3019ea76de6f2a851a073df3e9c699c072e...</td>\n",
       "      <td>A new home and four years college tuition and ...</td>\n",
       "    </tr>\n",
       "    <tr>\n",
       "      <th>2</th>\n",
       "      <td>4961c634bf49bff77d8903ead8c784a9a9f11a713ce4ca...</td>\n",
       "      <td>Well, that last wave you guys got here when yo...</td>\n",
       "    </tr>\n",
       "    <tr>\n",
       "      <th>3</th>\n",
       "      <td>a25348f0d3f51d1f86e2a4cd6e7b5bebacdc7827f49e6c...</td>\n",
       "      <td>Here's to believing The end of the road is whe...</td>\n",
       "    </tr>\n",
       "    <tr>\n",
       "      <th>4</th>\n",
       "      <td>a07be4cc8804cf2d2b2141241a42d301e0fd301c1a8077...</td>\n",
       "      <td>Hello, everyone. Dominoes here. There's a soun...</td>\n",
       "    </tr>\n",
       "    <tr>\n",
       "      <th>5</th>\n",
       "      <td>e68680086b3fd236d58939cff2071d55b9e61cd7f225d5...</td>\n",
       "      <td>This episode is brought to you by Emirates bec...</td>\n",
       "    </tr>\n",
       "    <tr>\n",
       "      <th>6</th>\n",
       "      <td>c0c8d424b2091c402b1b6947bc0e34ffdb2dd328111d21...</td>\n",
       "      <td>In today's world, Preoccupied is my normal sta...</td>\n",
       "    </tr>\n",
       "    <tr>\n",
       "      <th>7</th>\n",
       "      <td>d858ce989f2ad32c84e6cbf4da3d7fc3df409c821c1897...</td>\n",
       "      <td>Hello. I'd like to deposit this two. Checking ...</td>\n",
       "    </tr>\n",
       "    <tr>\n",
       "      <th>8</th>\n",
       "      <td>45b5195341ba95d5f4f6c9e5615ababfaee7037ebafd55...</td>\n",
       "      <td>NaN</td>\n",
       "    </tr>\n",
       "    <tr>\n",
       "      <th>9</th>\n",
       "      <td>7dbc7c7e3394acc3007b48b1dfb7bd46e4c07c9782d51e...</td>\n",
       "      <td>This episode is brought to you by progressive ...</td>\n",
       "    </tr>\n",
       "  </tbody>\n",
       "</table>\n",
       "</div>"
      ],
      "text/plain": [
       "                                            track_id  \\\n",
       "0  5a21457ff2f434e030908d3a3dc516aefd42e82565c0bf...   \n",
       "1  d141c764e7c3019ea76de6f2a851a073df3e9c699c072e...   \n",
       "2  4961c634bf49bff77d8903ead8c784a9a9f11a713ce4ca...   \n",
       "3  a25348f0d3f51d1f86e2a4cd6e7b5bebacdc7827f49e6c...   \n",
       "4  a07be4cc8804cf2d2b2141241a42d301e0fd301c1a8077...   \n",
       "5  e68680086b3fd236d58939cff2071d55b9e61cd7f225d5...   \n",
       "6  c0c8d424b2091c402b1b6947bc0e34ffdb2dd328111d21...   \n",
       "7  d858ce989f2ad32c84e6cbf4da3d7fc3df409c821c1897...   \n",
       "8  45b5195341ba95d5f4f6c9e5615ababfaee7037ebafd55...   \n",
       "9  7dbc7c7e3394acc3007b48b1dfb7bd46e4c07c9782d51e...   \n",
       "\n",
       "                                  transcription_text  \n",
       "0  Guess what with boost. Adding a line with unli...  \n",
       "1  A new home and four years college tuition and ...  \n",
       "2  Well, that last wave you guys got here when yo...  \n",
       "3  Here's to believing The end of the road is whe...  \n",
       "4  Hello, everyone. Dominoes here. There's a soun...  \n",
       "5  This episode is brought to you by Emirates bec...  \n",
       "6  In today's world, Preoccupied is my normal sta...  \n",
       "7  Hello. I'd like to deposit this two. Checking ...  \n",
       "8                                                NaN  \n",
       "9  This episode is brought to you by progressive ...  "
      ]
     },
     "execution_count": 8,
     "metadata": {},
     "output_type": "execute_result"
    }
   ],
   "source": [
    "audio_text = pd.read_csv(os.path.join(mp3_folder, 'transcriptions.csv'))\n",
    "audio_text.head(10)"
   ]
  },
  {
   "cell_type": "markdown",
   "metadata": {},
   "source": [
    "Find files that don't have any transcriptions and move them to another folder:"
   ]
  },
  {
   "cell_type": "code",
   "execution_count": 20,
   "metadata": {},
   "outputs": [
    {
     "data": {
      "text/plain": [
       "8     ../../Downloads/audio_ads/audio_ads/45b5195341...\n",
       "38    ../../Downloads/audio_ads/audio_ads/da3cd5bc8c...\n",
       "64    ../../Downloads/audio_ads/audio_ads/509a5772c8...\n",
       "85    ../../Downloads/audio_ads/audio_ads/f603a91e67...\n",
       "90    ../../Downloads/audio_ads/audio_ads/b136557956...\n",
       "Name: track_id, dtype: object"
      ]
     },
     "execution_count": 20,
     "metadata": {},
     "output_type": "execute_result"
    }
   ],
   "source": [
    "Music_id = audio_text.track_id[audio_text.transcription_text.isna()]\n",
    "Music_files = Music_id.apply(lambda x: os.path.join(mp3_folder, x) + '.mp3')\n",
    "Music_files.head(5)"
   ]
  },
  {
   "cell_type": "code",
   "execution_count": 26,
   "metadata": {},
   "outputs": [],
   "source": [
    "Music_folder = os.path.join(mp3_folder,'../Music') # define music folder\n",
    "\n",
    "for f in Music_files:\n",
    "    if f in files:\n",
    "        !mv {f} {Music_folder}"
   ]
  }
 ],
 "metadata": {
  "kernelspec": {
   "display_name": "Python 3",
   "language": "python",
   "name": "python3"
  },
  "language_info": {
   "codemirror_mode": {
    "name": "ipython",
    "version": 3
   },
   "file_extension": ".py",
   "mimetype": "text/x-python",
   "name": "python",
   "nbconvert_exporter": "python",
   "pygments_lexer": "ipython3",
   "version": "3.6.7"
  }
 },
 "nbformat": 4,
 "nbformat_minor": 2
}
